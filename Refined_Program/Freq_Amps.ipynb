{
 "cells": [
  {
   "cell_type": "markdown",
   "metadata": {},
   "source": [
    "Bellow Do All of the needed Imports"
   ]
  },
  {
   "cell_type": "code",
   "execution_count": null,
   "metadata": {},
   "outputs": [],
   "source": [
    "from utlities.cal_utils import Format, Analyze, Graph\n",
    "\n",
    "\n",
    "import pandas as pd\n",
    "import matplotlib.pyplot as plt\n",
    "import matplotlib.gridspec as gridspec\n",
    "import matplotlib.ticker as ticker  # Import ticker module\n",
    "\n",
    "import seaborn as sns\n",
    "import math\n",
    "import scipy\n",
    "\n",
    "import numpy as np\n",
    "\n",
    "\n",
    "import os\n",
    "\n",
    "rep = \"3\"\n",
    "path_data = f\"./Data/rep{rep}_data.xlsx\"\n",
    "path_md = f\"./picker_suggestions_modified/rep{rep}_edited.xlsx\"\n",
    "\n",
    "\n",
    "folder = f\"./rep{rep}_data_analysis\"\n",
    "\n",
    "form = Format(path = path_data)\n",
    "analyze = Analyze()\n",
    "\n",
    "sns.set_style(\"darkgrid\")\n",
    "sns.color_palette('colorblind')"
   ]
  },
  {
   "cell_type": "markdown",
   "metadata": {},
   "source": [
    "Then, cut all of the graphs from the selected end of the curve to the start of next stumulus"
   ]
  },
  {
   "cell_type": "markdown",
   "metadata": {},
   "source": [
    "Then, do the smoothing"
   ]
  },
  {
   "cell_type": "markdown",
   "metadata": {},
   "source": [
    "Adjust params so it's aprox 1 peak per minute"
   ]
  }
 ],
 "metadata": {
  "kernelspec": {
   "display_name": "Python 3",
   "language": "python",
   "name": "python3"
  },
  "language_info": {
   "name": "python",
   "version": "3.9.6"
  }
 },
 "nbformat": 4,
 "nbformat_minor": 2
}
